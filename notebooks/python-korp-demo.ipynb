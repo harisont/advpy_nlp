{
 "cells": [
  {
   "cell_type": "markdown",
   "metadata": {},
   "source": [
    "# Using [`python-korp`](https://github.com/mikahama/python-korp)"
   ]
  },
  {
   "cell_type": "markdown",
   "metadata": {},
   "source": [
    "Import and instantiate the `Korp` class:"
   ]
  },
  {
   "cell_type": "code",
   "execution_count": 15,
   "metadata": {},
   "outputs": [],
   "source": [
    "from korp.korp import Korp # funny import\n",
    "korp = Korp(service_name='språkbanken')"
   ]
  },
  {
   "cell_type": "markdown",
   "metadata": {},
   "source": [
    "Select relevant corpora:"
   ]
  },
  {
   "cell_type": "code",
   "execution_count": 16,
   "metadata": {},
   "outputs": [
    {
     "name": "stdout",
     "output_type": "stream",
     "text": [
      "['SUC2', 'SUC3']\n"
     ]
    }
   ],
   "source": [
    "corpora = korp.list_corpora(\"SUC\") # all corpora whose name starts with \"SUC\"\n",
    "print(corpora)"
   ]
  },
  {
   "cell_type": "markdown",
   "metadata": {},
   "source": [
    "Define a query using the [CQP language](https://cwb.sourceforge.io/files/CQP_Tutorial.pdf):"
   ]
  },
  {
   "cell_type": "code",
   "execution_count": 17,
   "metadata": {},
   "outputs": [],
   "source": [
    "query = '[pos = \"AB\"]' "
   ]
  },
  {
   "cell_type": "markdown",
   "metadata": {},
   "source": [
    "Run the query and get the first 10 matching sentences or _concordances_:"
   ]
  },
  {
   "cell_type": "code",
   "execution_count": 18,
   "metadata": {},
   "outputs": [
    {
     "name": "stdout",
     "output_type": "stream",
     "text": [
      "10 concordances\n"
     ]
    }
   ],
   "source": [
    "params = {\n",
    "    \"default_context\": \"1 sentence\", # to get full sentences as results\n",
    "    \"show\": [\"ref\", \"word\", \"pos\", \"dephead\"] # listing the information we are interested in\n",
    "    }\n",
    "\n",
    "(_, concordances) = korp.concordance(query, corpora, start=0, end=9, additional_parameters=params)\n",
    "\n",
    "print(len(concordances), \"concordances\")"
   ]
  },
  {
   "cell_type": "markdown",
   "metadata": {},
   "source": [
    "Note that, by default, `.concordance()` returns 1000 concordances."
   ]
  },
  {
   "cell_type": "markdown",
   "metadata": {},
   "source": [
    "A concordance is a nested dictionary with tree keys `corpus`, `match` (the portion of the sentence matching the query) and `tokens` (the list of tokens that make up the sentence):"
   ]
  },
  {
   "cell_type": "code",
   "execution_count": 19,
   "metadata": {},
   "outputs": [
    {
     "data": {
      "text/plain": [
       "{'corpus': 'SUC2',\n",
       " 'match': {'position': 13, 'start': 13, 'end': 14},\n",
       " 'tokens': [{'word': 'Genom', 'pos': 'PP', 'ref': '01', 'dephead': '06'},\n",
       "  {'word': 'förvärv', 'pos': 'NN', 'ref': '02', 'dephead': '01'},\n",
       "  {'word': 'under', 'pos': 'PP', 'ref': '03', 'dephead': '02'},\n",
       "  {'word': 'perioden', 'pos': 'NN', 'ref': '04', 'dephead': '05'},\n",
       "  {'word': 'juni', 'pos': 'NN', 'ref': '05', 'dephead': '03'},\n",
       "  {'word': '-', 'pos': 'MID', 'ref': '06', 'dephead': '08'},\n",
       "  {'word': 'september', 'pos': 'NN', 'ref': '07', 'dephead': '06'},\n",
       "  {'word': 'ökade', 'pos': 'VB', 'ref': '08', 'dephead': None},\n",
       "  {'word': 'aktieinnehavet', 'pos': 'NN', 'ref': '09', 'dephead': '08'},\n",
       "  {'word': 'i', 'pos': 'PP', 'ref': '10', 'dephead': '08'},\n",
       "  {'word': 'Gota', 'pos': 'PM', 'ref': '11', 'dephead': '10'},\n",
       "  {'word': 'AB', 'pos': 'PM', 'ref': '12', 'dephead': '11'},\n",
       "  {'word': 'till', 'pos': 'PP', 'ref': '13', 'dephead': '08'},\n",
       "  {'word': 'totalt', 'pos': 'AB', 'ref': '14', 'dephead': '15'},\n",
       "  {'word': '98', 'pos': 'RG', 'ref': '15', 'dephead': '16'},\n",
       "  {'word': 'procent', 'pos': 'NN', 'ref': '16', 'dephead': '13'},\n",
       "  {'word': '.', 'pos': 'MAD', 'ref': '17', 'dephead': '08'}]}"
      ]
     },
     "execution_count": 19,
     "metadata": {},
     "output_type": "execute_result"
    }
   ],
   "source": [
    "concordances[0]"
   ]
  },
  {
   "cell_type": "markdown",
   "metadata": {},
   "source": [
    "Print all 10 retrieved sentences, highlighting the matches:"
   ]
  },
  {
   "cell_type": "code",
   "execution_count": 20,
   "metadata": {},
   "outputs": [
    {
     "data": {
      "text/markdown": [
       "- Genom förvärv under perioden juni - september ökade aktieinnehavet i Gota AB till **totalt** 98 procent ."
      ],
      "text/plain": [
       "<IPython.core.display.Markdown object>"
      ]
     },
     "metadata": {},
     "output_type": "display_data"
    },
    {
     "data": {
      "text/markdown": [
       "- Home Insurance är bland de tio största bolagen i USA inom sina marknadsområden , **dvs** egendoms- och ansvarsförsäkring för stora och komplexa risker ."
      ],
      "text/plain": [
       "<IPython.core.display.Markdown object>"
      ]
     },
     "metadata": {},
     "output_type": "display_data"
    },
    {
     "data": {
      "text/markdown": [
       "- Målgruppen är större kunder , **ofta** med behov som kräver individuell premiesättning , komplexa och i många fall internationella försäkringslösningar ."
      ],
      "text/plain": [
       "<IPython.core.display.Markdown object>"
      ]
     },
     "metadata": {},
     "output_type": "display_data"
    },
    {
     "data": {
      "text/markdown": [
       "- Fastighetsmarknaden fortsatte **nedåt** och även utvecklingen på obligations- och aktiemarknaderna var svag , varför övrig kapitalavkastning minskade till 133 ( 284 ) miljoner kronor ."
      ],
      "text/plain": [
       "<IPython.core.display.Markdown object>"
      ]
     },
     "metadata": {},
     "output_type": "display_data"
    },
    {
     "data": {
      "text/markdown": [
       "- Fastighetsmarknaden fortsatte nedåt och **även** utvecklingen på obligations- och aktiemarknaderna var svag , varför övrig kapitalavkastning minskade till 133 ( 284 ) miljoner kronor ."
      ],
      "text/plain": [
       "<IPython.core.display.Markdown object>"
      ]
     },
     "metadata": {},
     "output_type": "display_data"
    },
    {
     "data": {
      "text/markdown": [
       "- Premieinkomsterna uppgick **brutto** till 2424 ( 2398 ) miljoner dollar motsvarande 17089 ( 13303 ) miljoner kronor , trots beslutet 1991 att upphöra med all nyteckning för personförsäkring ."
      ],
      "text/plain": [
       "<IPython.core.display.Markdown object>"
      ]
     },
     "metadata": {},
     "output_type": "display_data"
    },
    {
     "data": {
      "text/markdown": [
       "- Kapitalavkastningen kan **kortsiktigt** svänga kraftigt och bör därför betraktas i ett långsiktigt perspektiv ."
      ],
      "text/plain": [
       "<IPython.core.display.Markdown object>"
      ]
     },
     "metadata": {},
     "output_type": "display_data"
    },
    {
     "data": {
      "text/markdown": [
       "- Kapitalavkastningen kan kortsiktigt svänga **kraftigt** och bör därför betraktas i ett långsiktigt perspektiv ."
      ],
      "text/plain": [
       "<IPython.core.display.Markdown object>"
      ]
     },
     "metadata": {},
     "output_type": "display_data"
    },
    {
     "data": {
      "text/markdown": [
       "- Kapitalavkastningen kan kortsiktigt svänga kraftigt och bör **därför** betraktas i ett långsiktigt perspektiv ."
      ],
      "text/plain": [
       "<IPython.core.display.Markdown object>"
      ]
     },
     "metadata": {},
     "output_type": "display_data"
    },
    {
     "data": {
      "text/markdown": [
       "- Minskningen jämfört med föregående år beror i huvudsak på att storföretagen i **allt** högre utsträckning ökar sin självrisk ."
      ],
      "text/plain": [
       "<IPython.core.display.Markdown object>"
      ]
     },
     "metadata": {},
     "output_type": "display_data"
    }
   ],
   "source": [
    "from IPython.display import display, Markdown\n",
    "\n",
    "for concordance in concordances: \n",
    "    match = concordance[\"match\"]\n",
    "    (start,end) = (match[\"start\"],match[\"end\"])\n",
    "    \n",
    "    words = []\n",
    "    for token in concordance[\"tokens\"]:\n",
    "        if int(token[\"ref\"]) in range(start + 1,end + 1):\n",
    "            words.append(\"**{}**\".format(token[\"word\"])) \n",
    "        else:\n",
    "            words.append(token[\"word\"])\n",
    "    display(Markdown(\"- \" + \" \".join(words)))"
   ]
  }
 ],
 "metadata": {
  "kernelspec": {
   "display_name": "Python 3",
   "language": "python",
   "name": "python3"
  },
  "language_info": {
   "codemirror_mode": {
    "name": "ipython",
    "version": 3
   },
   "file_extension": ".py",
   "mimetype": "text/x-python",
   "name": "python",
   "nbconvert_exporter": "python",
   "pygments_lexer": "ipython3",
   "version": "3.11.6"
  }
 },
 "nbformat": 4,
 "nbformat_minor": 2
}
